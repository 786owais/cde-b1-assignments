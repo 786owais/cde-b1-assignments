{
 "cells": [
  {
   "cell_type": "code",
   "execution_count": 1,
   "id": "1ceab827-11de-4de5-97de-ec5740ae91fc",
   "metadata": {},
   "outputs": [
    {
     "name": "stdout",
     "output_type": "stream",
     "text": [
      "hi\n"
     ]
    }
   ],
   "source": [
    "print(\"hi\")"
   ]
  },
  {
   "cell_type": "code",
   "execution_count": 17,
   "id": "6c5d8269-9ff0-43fa-b0dd-b7df326d7e59",
   "metadata": {},
   "outputs": [
    {
     "name": "stdout",
     "output_type": "stream",
     "text": [
      "this is a method\n"
     ]
    }
   ],
   "source": [
    "# In python a function is defined by DEF method \n",
    "# To call a certain method you can write name name and brackets imran_function() like that \n",
    "\n",
    "def imran_function():\n",
    " print(\"this is a method\")\n",
    "\n",
    "inra=imran_function()"
   ]
  },
  {
   "cell_type": "code",
   "execution_count": null,
   "id": "3e553553-0111-482f-ad6d-09bd07d2d023",
   "metadata": {},
   "outputs": [],
   "source": []
  }
 ],
 "metadata": {
  "kernelspec": {
   "display_name": "Python 3 (ipykernel)",
   "language": "python",
   "name": "python3"
  },
  "language_info": {
   "codemirror_mode": {
    "name": "ipython",
    "version": 3
   },
   "file_extension": ".py",
   "mimetype": "text/x-python",
   "name": "python",
   "nbconvert_exporter": "python",
   "pygments_lexer": "ipython3",
   "version": "3.12.4"
  }
 },
 "nbformat": 4,
 "nbformat_minor": 5
}
